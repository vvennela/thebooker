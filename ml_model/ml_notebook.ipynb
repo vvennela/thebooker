{
 "cells": [
  {
   "cell_type": "code",
   "execution_count": 24,
   "id": "d909bf91",
   "metadata": {
    "scrolled": true
   },
   "outputs": [],
   "source": [
    "## script to print game data for the past few years\n",
    "import time\n",
    "import pandas as pd\n",
    "from nba_api.stats.endpoints import leaguegamefinder\n",
    "\n",
    "def determine_winning_team(row):\n",
    "    if row['PLUS_MINUS_HOME'] > 0:\n",
    "        return row['HOME_TEAM']\n",
    "    elif row['PLUS_MINUS_HOME'] < 0:\n",
    "        return row['AWAY_TEAM']\n",
    "\n",
    "seasons = ['2009-10', '2010-11', '2011-12', '2012-13', \n",
    "           '2013-14', '2014-15', '2015-16', '2016-17', \n",
    "           '2017-18', '2018-19', '2019-20', '2020-21', \n",
    "           '2021-22', '2022-23', '2023-24']\n",
    "\n",
    "\n",
    "\n",
    "combined_games_df = pd.DataFrame()\n",
    "\n",
    "for season in seasons:\n",
    "    gamefinder = leaguegamefinder.LeagueGameFinder(season_nullable=season, league_id_nullable='00', season_type_nullable='Regular Season',\n",
    "                                                   date_from_nullable='10/01/2009', date_to_nullable='04/30/2024')\n",
    "    games = gamefinder.get_data_frames()[0]\n",
    "    games = games.sort_values(by=['GAME_DATE'])\n",
    "\n",
    "    team_names = ['Atlanta Hawks', 'Boston Celtics', 'Brooklyn Nets', 'Charlotte Hornets', 'Chicago Bulls', \n",
    "                  'Cleveland Cavaliers', 'Dallas Mavericks', 'Denver Nuggets', 'Detroit Pistons', \n",
    "                  'Golden State Warriors', 'Houston Rockets', 'Indiana Pacers', 'LA Clippers', \n",
    "                  'Los Angeles Lakers', 'Memphis Grizzlies', 'Miami Heat', 'Milwaukee Bucks', \n",
    "                  'Minnesota Timberwolves', 'New Orleans Pelicans', 'New York Knicks', \n",
    "                  'Oklahoma City Thunder', 'Orlando Magic', 'Philadelphia 76ers', 'Phoenix Suns', \n",
    "                  'Portland Trail Blazers', 'Sacramento Kings', 'San Antonio Spurs', 'Toronto Raptors', 'Utah Jazz', 'Washington Wizards']\n",
    "    \n",
    "    games = games[games['TEAM_NAME'].isin(team_names)]\n",
    "\n",
    "    home_team_data = games[games['MATCHUP'].str.contains('vs.')].copy()\n",
    "    away_team_data = games[games['MATCHUP'].str.contains('@')].copy()\n",
    "\n",
    "    aggregated_games = pd.merge(home_team_data, away_team_data, on=['GAME_ID'], suffixes=('_HOME', '_AWAY'))\n",
    "\n",
    "    home_cols = ['SEASON_ID_HOME', 'GAME_ID', 'GAME_DATE_HOME', 'TEAM_ABBREVIATION_HOME', 'PTS_HOME', 'MIN_HOME',\n",
    "                 'FGM_HOME', 'FGA_HOME', 'FG_PCT_HOME', 'FG3M_HOME', 'FG3A_HOME', 'FG3_PCT_HOME',\n",
    "                 'FTM_HOME', 'FTA_HOME', 'FT_PCT_HOME', 'OREB_HOME', 'DREB_HOME', 'REB_HOME',\n",
    "                 'AST_HOME', 'STL_HOME', 'BLK_HOME', 'TOV_HOME', 'PF_HOME', 'PLUS_MINUS_HOME', 'WL_HOME']\n",
    "\n",
    "    away_cols = ['SEASON_ID_AWAY', 'GAME_ID', 'GAME_DATE_AWAY', 'TEAM_ABBREVIATION_AWAY', 'PTS_AWAY', 'MIN_AWAY',\n",
    "                 'FGM_AWAY', 'FGA_AWAY', 'FG_PCT_AWAY', 'FG3M_AWAY', 'FG3A_AWAY', 'FG3_PCT_AWAY',\n",
    "                 'FTM_AWAY', 'FTA_AWAY', 'FT_PCT_AWAY', 'OREB_AWAY', 'DREB_AWAY', 'REB_AWAY',\n",
    "                 'AST_AWAY', 'STL_AWAY', 'BLK_AWAY', 'TOV_AWAY', 'PF_AWAY', 'PLUS_MINUS_AWAY', 'WL_AWAY']\n",
    "\n",
    "    games_df = pd.merge(aggregated_games[home_cols], aggregated_games[away_cols], on='GAME_ID', suffixes=('_HOME', '_AWAY'))\n",
    "\n",
    "    games_df['SEASON_ID'] = games_df['SEASON_ID_HOME'].combine_first(games_df['SEASON_ID_AWAY'])\n",
    "    games_df = games_df.drop(columns=['SEASON_ID_HOME', 'SEASON_ID_AWAY'])\n",
    "\n",
    "    games_df['HOME_TEAM'] = games_df['TEAM_ABBREVIATION_HOME']\n",
    "    games_df['AWAY_TEAM'] = games_df['TEAM_ABBREVIATION_AWAY']\n",
    "\n",
    "    games_df['WINNER'] = games_df.apply(determine_winning_team, axis=1)\n",
    "    column_names = [\n",
    "        'SEASON_ID', 'GAME_ID', 'GAME_DATE_HOME', 'HOME_TEAM', 'PTS_HOME', 'MIN_HOME',\n",
    "        'FGM_HOME', 'FGA_HOME', 'FG_PCT_HOME', 'FG3M_HOME', 'FG3A_HOME', 'FG3_PCT_HOME',\n",
    "        'FTM_HOME', 'FTA_HOME', 'FT_PCT_HOME', 'OREB_HOME', 'DREB_HOME', 'REB_HOME',\n",
    "        'AST_HOME', 'STL_HOME', 'BLK_HOME', 'TOV_HOME', 'PF_HOME', 'PLUS_MINUS_HOME', 'WL_HOME',\n",
    "        'GAME_DATE_AWAY', 'AWAY_TEAM', 'PTS_AWAY', 'MIN_AWAY', 'FGM_AWAY', 'FGA_AWAY',\n",
    "        'FG_PCT_AWAY', 'FG3M_AWAY', 'FG3A_AWAY', 'FG3_PCT_AWAY', 'FTM_AWAY', 'FTA_AWAY',\n",
    "        'FT_PCT_AWAY', 'OREB_AWAY', 'DREB_AWAY', 'REB_AWAY', 'AST_AWAY', 'STL_AWAY',\n",
    "        'BLK_AWAY', 'TOV_AWAY', 'PF_AWAY', 'PLUS_MINUS_AWAY', 'WL_AWAY'\n",
    "    ]\n",
    "\n",
    "    games_df = games_df[column_names]\n",
    "\n",
    "    games_df.rename(columns={'GAME_DATE_HOME': 'GAME_DATE'}, inplace=True)\n",
    "    games_df.drop(columns=['GAME_DATE_AWAY'], inplace=True)\n",
    "    games_df.drop(columns=['WL_HOME'], inplace=True)\n",
    "    games_df.drop(columns=['WL_AWAY'], inplace=True)\n",
    "    games_df['WINNING_TEAM'] = games_df.apply(determine_winning_team, axis=1)\n",
    "    games_df = games_df.sort_values(by=['GAME_DATE'])\n",
    "    combined_games_df = pd.concat([combined_games_df, games_df], ignore_index=True)\n",
    "\n",
    "\n",
    "combined_games_df.to_csv('games.csv', index=False)\n"
   ]
  },
  {
   "cell_type": "code",
   "execution_count": null,
   "id": "63a8d819",
   "metadata": {
    "scrolled": true
   },
   "outputs": [],
   "source": [
    "## script to print team data and averages from the past few years + ortg, drtg \n"
   ]
  },
  {
   "cell_type": "code",
   "execution_count": 26,
   "id": "02f5a6ca",
   "metadata": {},
   "outputs": [],
   "source": [
    "## script to print player data by game - past 10 years"
   ]
  },
  {
   "cell_type": "code",
   "execution_count": null,
   "id": "06f7c741",
   "metadata": {},
   "outputs": [],
   "source": [
    "## script to print player data averages - past 10 years"
   ]
  }
 ],
 "metadata": {
  "kernelspec": {
   "display_name": "Python 3 (ipykernel)",
   "language": "python",
   "name": "python3"
  },
  "language_info": {
   "codemirror_mode": {
    "name": "ipython",
    "version": 3
   },
   "file_extension": ".py",
   "mimetype": "text/x-python",
   "name": "python",
   "nbconvert_exporter": "python",
   "pygments_lexer": "ipython3",
   "version": "3.8.3"
  }
 },
 "nbformat": 4,
 "nbformat_minor": 5
}
